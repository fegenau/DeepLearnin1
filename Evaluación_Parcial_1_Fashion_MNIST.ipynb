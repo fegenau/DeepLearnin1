{
 "nbformat": 4,
 "nbformat_minor": 0,
 "metadata": {
  "colab": {
   "provenance": []
  },
  "kernelspec": {
   "name": "python3",
   "display_name": "Python 3"
  },
  "language_info": {
   "name": "python"
  }
 },
 "cells": [
  {
   "cell_type": "markdown",
   "source": [
    "# Evaluación Parcial 1 Deep Learning\n",
    "\n",
    "- Profesor: Felipe Zambrano\n",
    "\n",
    "### Instrucciones generales\n",
    "\n",
    "- Esta prohibido compartir las respuestas con otros grupos.\n",
    "- Indicios de copia serán penalizados con la nota mínima.\n",
    "- Cualquier duda fuera del horario de clases se debe enviar por el AVA. Mensajes al docente serán respondidos por este medio.\n",
    "- Pueden usar cualquier material del curso que estimen conveniente, si utiliza material extra debe citarlo.\n",
    "\n",
    "### Sobre la entrega\n",
    "  * Antes de comenzar a realizar la evaluación, guarde una copia de este cuadernillo en su Google Drive (`Archivo > Guardar una copia en Drive`). No hacer esto puede implicar que su trabajo no se guarde correctamente.\n",
    "  *  Debe descargar este cuardenillo de Google Colab como un archivo `.ipynb` (`Archivo > Descargar > Descargar .ipynb`). No se revisarán otros formatos de entrega. Recuerde guardar su desarrollo antes de descargar el archivo correspondiente.\n",
    "  *  El archivo debe ser reproducible, o sea si cargo el archivo en Google Colab y ejecuto todas las celdas, debe reproducir los resultados que usted obtuvo.\n",
    "  *  Se debe subir el archivo `.ipynb` descargado al AVA en el apartado Experiencia de Aprendizaje 1: Fundamentos de Deep Learning -> Evaluación Parcial EA1.\n",
    "  *  La fecha límite de entrega es el **miércoles 14 de mayo a las 18:59 hrs**. Por cada hora de retraso, se descontará un punto de la nota final. Ejemplo: Si entrega entre 19:00 y 19:59, la nota máxima será 6.0. Si entrega entre 20:00 y 20:59, la nota máxima será 5.0, y así sucesivamente.\n",
    "  *  Ante cualquier sospecha de copia, reprobarán automáticamente el curso con nota mínima (1.0) los involucrados. La discusión entre pares siempre es beneficiosa y fomenta diálogos interesantes, pero cada uno debe desarrollar su propio trabajo.\n",
    "  * El cálculo de la nota de la evaluación esta dado por: $\\text{Nota}=1+{\\sum_{i=1}^7\\text{PuntajePregunta}_i \\over 7}$\n",
    "\n",
    "\n",
    "### Grupo Nº\n",
    "> POR FAVOR AGREGAR EL NÚMERO DE GRUPO\n",
    "\n",
    "### Integrantes del grupo\n",
    "\n",
    "> POR FAVOR AGREGAR TODOS LOS NOMBRES DE LOS INTEGRANTES\n",
    "\n"
   ],
   "metadata": {
    "id": "tOcMbo3euEMP"
   }
  },
  {
   "cell_type": "code",
   "source": [
    "# 1. Cargar librerías\n",
    "import numpy as np\n",
    "import tensorflow as tf\n",
    "from tensorflow import keras\n",
    "import matplotlib.pyplot as plt"
   ],
   "metadata": {
    "id": "FbdCg__is4nN",
    "jupyter": {
     "is_executing": true
    }
   },
   "outputs": [],
   "execution_count": null
  },
  {
   "cell_type": "code",
   "execution_count": null,
   "metadata": {
    "colab": {
     "base_uri": "https://localhost:8080/"
    },
    "id": "qU6GkLrKsz_6",
    "outputId": "41ae1ca3-2bce-43cc-9e3d-e2136f828ca5"
   },
   "outputs": [
    {
     "output_type": "stream",
     "name": "stdout",
     "text": [
      "Downloading data from https://storage.googleapis.com/tensorflow/tf-keras-datasets/train-labels-idx1-ubyte.gz\n",
      "\u001B[1m29515/29515\u001B[0m \u001B[32m━━━━━━━━━━━━━━━━━━━━\u001B[0m\u001B[37m\u001B[0m \u001B[1m0s\u001B[0m 0us/step\n",
      "Downloading data from https://storage.googleapis.com/tensorflow/tf-keras-datasets/train-images-idx3-ubyte.gz\n",
      "\u001B[1m26421880/26421880\u001B[0m \u001B[32m━━━━━━━━━━━━━━━━━━━━\u001B[0m\u001B[37m\u001B[0m \u001B[1m1s\u001B[0m 0us/step\n",
      "Downloading data from https://storage.googleapis.com/tensorflow/tf-keras-datasets/t10k-labels-idx1-ubyte.gz\n",
      "\u001B[1m5148/5148\u001B[0m \u001B[32m━━━━━━━━━━━━━━━━━━━━\u001B[0m\u001B[37m\u001B[0m \u001B[1m0s\u001B[0m 0us/step\n",
      "Downloading data from https://storage.googleapis.com/tensorflow/tf-keras-datasets/t10k-images-idx3-ubyte.gz\n",
      "\u001B[1m4422102/4422102\u001B[0m \u001B[32m━━━━━━━━━━━━━━━━━━━━\u001B[0m\u001B[37m\u001B[0m \u001B[1m0s\u001B[0m 0us/step\n"
     ]
    }
   ],
   "source": [
    "# 2. Cargar el dataset Fashion MNIST\n",
    "(X_train, y_train), (X_test, y_test) = keras.datasets.fashion_mnist.load_data()"
   ]
  },
  {
   "cell_type": "markdown",
   "source": [
    "**1.** **[6 pts]** Describa las características del dataset Fashion MNIST:\n",
    "- Categorías de ropa\n",
    "- Tamaño de las imágenes\n",
    "- Tamaño del dataset\n",
    "- Tamaño del conjunto de entrenamiento\n",
    "- Tamaño del conjunto de test\n",
    "- Indique si las clases están balanceadas\n"
   ],
   "metadata": {
    "id": "mq5MhgKbsetB"
   }
  },
  {
   "cell_type": "code",
   "source": "# Responda aquí:\n",
   "metadata": {
    "id": "z0zTsBP2w5Fx"
   },
   "execution_count": null,
   "outputs": []
  },
  {
   "cell_type": "markdown",
   "source": [
    "**2.** **[6 pts]** Genere una previsualización de 10 imágenes por categoría"
   ],
   "metadata": {
    "id": "S9QqzfaDumeg"
   }
  },
  {
   "cell_type": "code",
   "source": [
    "# Responda aquí:"
   ],
   "metadata": {
    "id": "9lWTMIQ5v4rp"
   },
   "execution_count": null,
   "outputs": []
  },
  {
   "cell_type": "markdown",
   "source": [
    "**3.** **[6 pts]** Separe el dataset en un conjunto de entrenamiento y test y posteriormente normalice los datos"
   ],
   "metadata": {
    "id": "CMMGPDtru_mn"
   }
  },
  {
   "cell_type": "code",
   "source": [
    "# Responda aquí:"
   ],
   "metadata": {
    "id": "ZIgcmS7pr03V"
   },
   "execution_count": null,
   "outputs": []
  },
  {
   "cell_type": "markdown",
   "source": [
    "**4.** **[6 pts]** Defina la arquitectura de la red neuronal:\n",
    "- Especifique el número de capas ocultas y neuronas por capa\n",
    "- Justifique por qué usaron esa configuración\n",
    "- Indique la función de activación usada (ReLU, sigmoid, softmax, entre otras) y por qué\n",
    "- Calcule manualmente el número total de parámetros entrenables del modelo (pesos y sesgos)\n",
    "- Posteriormente compile y entrene el modelo"
   ],
   "metadata": {
    "id": "hhuCbEt9v3Ui"
   }
  },
  {
   "cell_type": "code",
   "source": [
    "# Responda aquí:"
   ],
   "metadata": {
    "id": "GvNw_3vWr4eb"
   },
   "execution_count": null,
   "outputs": []
  },
  {
   "cell_type": "markdown",
   "source": [
    "**5.** **[6 pts]** Compare distintas configuraciones<br>\n",
    "Entrene al menos 2 arquitecturas distintas (una simple y una más profunda) y compare:\n",
    "- Precisión en entrenamiento y validación\n",
    "- Tiempo de entrenamiento\n",
    "- Comportamiento de la función de pérdida"
   ],
   "metadata": {
    "id": "qnYQrQdjxSxD"
   }
  },
  {
   "cell_type": "code",
   "source": [
    "# Responda aquí:"
   ],
   "metadata": {
    "id": "ymsxwOXar-Ej"
   },
   "execution_count": null,
   "outputs": []
  },
  {
   "cell_type": "markdown",
   "source": [
    "**6.** **[6 pts]** Aplicación de al menos dos técnicas de rergularización<br>\n",
    "Pruebe:\n",
    "- Dropout\n",
    "- EarlyStopping\n",
    "- Batch Normalization\n",
    "\n",
    "Analice:\n",
    "- Cómo cambia la curva de pérdida y precisión.\n",
    "- Cuál técnica mejoró la generalización.\n",
    "\n",
    "Grafique:\n",
    "- Curva de pérdida y precisión para entrenamiento y validación.\n",
    "- Identificar signos de sobreajuste o subajuste.\n",
    "- Relacionar estos signos con la arquitectura o los hiperparámetros."
   ],
   "metadata": {
    "id": "jMgWSf5QycBr"
   }
  },
  {
   "cell_type": "code",
   "source": [
    "# Responda aquí:"
   ],
   "metadata": {
    "id": "RnXn-eeFsB1n"
   },
   "execution_count": null,
   "outputs": []
  },
  {
   "cell_type": "markdown",
   "source": [
    "**7.** **[6 pts]** Hiperparámetros del entrenamiento<br>\n",
    "\n",
    "Explique cómo afecta:\n",
    "- Learning rate\n",
    "- Batch size\n",
    "- Número de épocas\n",
    "\n",
    "Puede probar combinaciones distintas y justificar cuál funcionó mejor."
   ],
   "metadata": {
    "id": "y9cg1YfczKqA"
   }
  },
  {
   "cell_type": "code",
   "source": [
    "# Responda aquí:"
   ],
   "metadata": {
    "id": "eUP-WAz7sEHu"
   },
   "execution_count": null,
   "outputs": []
  },
  {
   "cell_type": "markdown",
   "source": [
    "**8.** **[6 pts]** Bonus<br>\n",
    "\n",
    "- Realice predicciones con su modelo entrenado.\n",
    "- Visualice algunas imágenes clasificadas correctamente y otras mal clasificadas.\n",
    "- Analice posibles causas del error."
   ],
   "metadata": {
    "id": "T6KAx1Whz0bG"
   }
  }
 ]
}
